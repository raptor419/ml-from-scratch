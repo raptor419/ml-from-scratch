{
 "cells": [
  {
   "cell_type": "markdown",
   "metadata": {},
   "source": [
    "# MultiLayer Perceptron"
   ]
  },
  {
   "cell_type": "code",
   "execution_count": 1,
   "metadata": {},
   "outputs": [],
   "source": [
    "from __future__ import division\n",
    "import numpy as np\n",
    "import matplotlib.pyplot as plt\n",
    "from sklearn.datasets import fetch_openml\n",
    "import sklearn\n",
    "import sklearn.datasets"
   ]
  },
  {
   "cell_type": "code",
   "execution_count": 2,
   "metadata": {},
   "outputs": [],
   "source": [
    "def load_mnist():\n",
    "    mnist = fetch_openml('mnist_784')\n",
    "    X,y = mnist['data'], mnist['target']\n",
    "    X_train,y_train,X_test,y_test = X[0:60000],y[0:60000],X[60001:],y[60001:]\n",
    "    y_train = y_train.reshape(len(y_train),1).astype(np.int)\n",
    "    y_test = y_test.reshape(len(y_test),1).astype(np.int)\n",
    "    return X_train, y_train, X_test, y_test"
   ]
  },
  {
   "cell_type": "markdown",
   "metadata": {},
   "source": [
    "### Propagation methods"
   ]
  },
  {
   "cell_type": "code",
   "execution_count": 3,
   "metadata": {},
   "outputs": [],
   "source": [
    "class MultiplyGate:\n",
    "    def forward(self,W, X):\n",
    "        return np.dot(X, W)\n",
    "\n",
    "    def backward(self, W, X, dZ):\n",
    "        dW = np.dot(np.transpose(X), dZ)\n",
    "        dX = np.dot(dZ, np.transpose(W))\n",
    "        return dW, dX\n",
    "\n",
    "class AddGate:\n",
    "    def forward(self, X, b):\n",
    "        return X + b\n",
    "\n",
    "    def backward(self, X, b, dZ):\n",
    "        dX = dZ * np.ones_like(X)\n",
    "        db = np.dot(np.ones((1, dZ.shape[0]), dtype=np.float64), dZ)\n",
    "        return db, dX"
   ]
  },
  {
   "cell_type": "markdown",
   "metadata": {},
   "source": [
    "### Activation Functions"
   ]
  },
  {
   "cell_type": "code",
   "execution_count": 4,
   "metadata": {},
   "outputs": [],
   "source": [
    "class Sigmoid:\n",
    "    def forward(self, X):\n",
    "        return 1.0 / (1.0 + np.exp(-X))\n",
    "\n",
    "    def backward(self, X, top_diff):\n",
    "        output = self.forward(X)\n",
    "        return (1.0 - output) * output * top_diff\n",
    "\n",
    "class Tanh:\n",
    "    def forward(self, X):\n",
    "        return np.tanh(X)\n",
    "\n",
    "    def backward(self, X, top_diff):\n",
    "        output = self.forward(X)\n",
    "        return (1.0 - np.square(output)) * top_diff\n",
    "    \n",
    "class Relu:\n",
    "    def forward(self, X):\n",
    "        if np.isscalar(X):\n",
    "            result = np.max((X, 0))\n",
    "        else:\n",
    "            zero_aux = np.zeros(X.shape)\n",
    "            meta_x = np.stack((X , zero_aux), axis = -1)\n",
    "            result = np.max(meta_x, axis = -1)\n",
    "        return result\n",
    "    \n",
    "    def backward(self, X, top_diff):\n",
    "        result = 1.0 * (X > 0)\n",
    "        result = np.clip(result,1e-15,1-1e-15)\n",
    "        return (result) * top_diff\n",
    "    \n",
    "class Linear:\n",
    "    def forward(self, X):\n",
    "        return X\n",
    "    \n",
    "    def backward(self, X, top_diff):\n",
    "        return top_diff\n",
    "    \n",
    "def get_act_fn(activation):\n",
    "    if activation == 'sigmoid':\n",
    "        act = Sigmoid()\n",
    "    elif activation == 'relu':\n",
    "        act = Relu()\n",
    "    elif activation == 'tanh':\n",
    "        act = Tanh()\n",
    "    elif activation == 'linear':\n",
    "        act = Linear()\n",
    "    return act"
   ]
  },
  {
   "cell_type": "markdown",
   "metadata": {},
   "source": [
    "### Softmax Functions"
   ]
  },
  {
   "cell_type": "code",
   "execution_count": 5,
   "metadata": {},
   "outputs": [],
   "source": [
    "class Softmax:\n",
    "    def predict(self, X):\n",
    "        exp_scores = np.exp(X.astype(np.float))\n",
    "        return exp_scores / np.sum(exp_scores, axis=1, keepdims=True)\n",
    "\n",
    "    def loss(self, X, y):\n",
    "        num_examples = X.shape[0]\n",
    "        probs = self.predict(X)\n",
    "        probs = np.clip(probs,1e-15,1-1e-15)\n",
    "        corect_logprobs = -np.log(probs[range(num_examples), y])\n",
    "        data_loss = np.sum(corect_logprobs)\n",
    "        return 1./num_examples * data_loss\n",
    "\n",
    "    def diff(self, X, y):\n",
    "        num_examples = X.shape[0]\n",
    "        probs = self.predict(X)\n",
    "        probs = np.clip(probs,1e-15,1-1e-15)\n",
    "        probs[range(num_examples), y] -= 1\n",
    "        return probs"
   ]
  },
  {
   "cell_type": "markdown",
   "metadata": {},
   "source": [
    "### Nueral Net"
   ]
  },
  {
   "cell_type": "code",
   "execution_count": 6,
   "metadata": {},
   "outputs": [],
   "source": [
    "class Nueral_Net:\n",
    "    def __init__(self, num_layers, layers_dim, iterations=300, learning_rate=0.1, activation='sigmoid'):\n",
    "        self.layers_dim = layers_dim\n",
    "        self.num_layers = num_layers\n",
    "        self.iterations = iterations\n",
    "        self.learning_rate = learning_rate\n",
    "        self.activation = activation\n",
    "        self.activation_fn = get_act_fn(self.activation)\n",
    "        self.bias = []\n",
    "        self.weights = []\n",
    "        self.loss = []\n",
    "        for i in range(self.num_layers-1):\n",
    "            self.weights.append(0.1*np.random.normal(0,1,size=(self.layers_dim[i], self.layers_dim[i+1])))\n",
    "            self.bias.append(np.zeros((1, self.layers_dim[i+1])))\n",
    "#             self.weights.append(np.random.randn(layers_dim[i], layers_dim[i+1]) / np.sqrt(layers_dim[i]))\n",
    "#             self.bias.append(np.random.randn(layers_dim[i+1]).reshape(1, layers_dim[i+1]))\n",
    "\n",
    "#             print(\"Weights\",i,self.weights)\n",
    "#             print(\"Bias\",i,self.bias)\n",
    "                             \n",
    "    def calculate_loss(self, X, y):\n",
    "        mulGate = MultiplyGate()\n",
    "        addGate = AddGate()\n",
    "        act_layer = self.activation_fn\n",
    "        output_layer = Softmax()\n",
    "\n",
    "        inp = X\n",
    "        for i in range(len(self.weights)):\n",
    "            mul = mulGate.forward(self.weights[i], inp)\n",
    "            add = addGate.forward(mul, self.bias[i])\n",
    "            inp = act_layer.forward(add)\n",
    "\n",
    "        return output_layer.loss(inp, y)\n",
    "\n",
    "    def predict(self, X):\n",
    "        mulGate = MultiplyGate()\n",
    "        addGate = AddGate()\n",
    "        act_layer = self.activation_fn\n",
    "        output_layer = Softmax()\n",
    "\n",
    "        inp = X\n",
    "        for i in range(len(self.weights)):\n",
    "            mul = mulGate.forward(self.weights[i], inp)\n",
    "            add = addGate.forward(mul, self.bias[i])\n",
    "            inp = act_layer.forward(add)\n",
    "\n",
    "        probs = output_layer.predict(inp)\n",
    "        return np.argmax(probs, axis=1)\n",
    "    \n",
    "    def score(self, X, y):\n",
    "        y_pred = self.predict(X)\n",
    "        return np.sum(y == y_pred) / len(y)\n",
    "\n",
    "    def fit(self, X, y, verbose = True):\n",
    "        mulGate = MultiplyGate()\n",
    "        addGate = AddGate()\n",
    "        act_layer = self.activation_fn\n",
    "        output_layer = Softmax()\n",
    "                          \n",
    "        for epoch in range(self.iterations):\n",
    "            # Forward propagation\n",
    "            inp = X\n",
    "            forward = [(None, None, inp)]\n",
    "            for i in range(len(self.weights)):\n",
    "                mul = mulGate.forward(self.weights[i], inp)\n",
    "                add = addGate.forward(mul, self.bias[i])\n",
    "                inp = act_layer.forward(add)\n",
    "                forward.append((mul, add, inp))\n",
    "\n",
    "            # Back propagation\n",
    "            bact = output_layer.diff(forward[len(forward)-1][2], y)\n",
    "            for i in range(len(forward)-1, 0, -1):\n",
    "                dadd = act_layer.backward(forward[i][1], bact)\n",
    "                db, dmul = addGate.backward(forward[i][0], self.bias[i-1], dadd)\n",
    "                dW, bact = mulGate.backward(self.weights[i-1], forward[i-1][2], dmul)\n",
    "\n",
    "                self.bias[i-1] += -self.learning_rate * db\n",
    "                self.weights[i-1] += -self.learning_rate * dW\n",
    "                \n",
    "            loss = self.calculate_loss(X, y)\n",
    "            self.loss.append(loss)\n",
    "            if verbose:\n",
    "                print(\"Loss after iteration %i: %f\" %(epoch+1, loss))"
   ]
  },
  {
   "cell_type": "code",
   "execution_count": 8,
   "metadata": {},
   "outputs": [],
   "source": [
    "np.random.seed(0)\n",
    "X_train, y_train = sklearn.datasets.make_moons(200, noise=0.20)"
   ]
  },
  {
   "cell_type": "code",
   "execution_count": 9,
   "metadata": {},
   "outputs": [],
   "source": [
    "layers = 3\n",
    "layers_dim = [2, 3, 2]"
   ]
  },
  {
   "cell_type": "markdown",
   "metadata": {},
   "source": [
    "## Neural Net Scores and Losses"
   ]
  },
  {
   "cell_type": "code",
   "execution_count": 7,
   "metadata": {},
   "outputs": [],
   "source": [
    "mnist = fetch_openml('mnist_784')\n",
    "X,y = mnist['data'], mnist['target']\n",
    "X_train,y_train,X_test,y_test = X[0:60000],y[0:60000],X[60001:],y[60001:]\n",
    "y_train = y_train.reshape(len(y_train),1).astype(np.int)\n",
    "y_test = y_test.reshape(len(y_test),1).astype(np.int)\n",
    "layers = 5\n",
    "layers_dim = [28*28, 256, 128, 64, 10]"
   ]
  },
  {
   "cell_type": "markdown",
   "metadata": {},
   "source": [
    "### ReLU"
   ]
  },
  {
   "cell_type": "code",
   "execution_count": 10,
   "metadata": {},
   "outputs": [
    {
     "name": "stdout",
     "output_type": "stream",
     "text": [
      "Loss after iteration 1: 0.693147\n",
      "Loss after iteration 2: 0.693147\n",
      "Loss after iteration 3: 0.693147\n",
      "Loss after iteration 4: 0.693147\n",
      "Loss after iteration 5: 0.693147\n",
      "Loss after iteration 6: 0.693147\n",
      "Loss after iteration 7: 0.693147\n",
      "Loss after iteration 8: 0.693147\n",
      "Loss after iteration 9: 0.693147\n",
      "Loss after iteration 10: 0.693147\n",
      "Loss after iteration 11: 0.693147\n",
      "Loss after iteration 12: 0.693147\n",
      "Loss after iteration 13: 0.693147\n",
      "Loss after iteration 14: 0.693147\n",
      "Loss after iteration 15: 0.693147\n",
      "Loss after iteration 16: 0.693147\n",
      "Loss after iteration 17: 0.693147\n",
      "Loss after iteration 18: 0.693147\n",
      "Loss after iteration 19: 0.693147\n",
      "Loss after iteration 20: 0.693147\n",
      "Loss after iteration 21: 0.693147\n",
      "Loss after iteration 22: 0.693147\n",
      "Loss after iteration 23: 0.693147\n",
      "Loss after iteration 24: 0.693147\n",
      "Loss after iteration 25: 0.693147\n",
      "Loss after iteration 26: 0.693147\n",
      "Loss after iteration 27: 0.693147\n",
      "Loss after iteration 28: 0.693147\n",
      "Loss after iteration 29: 0.693147\n",
      "Loss after iteration 30: 0.693147\n",
      "Loss after iteration 31: 0.693147\n",
      "Loss after iteration 32: 0.693147\n",
      "Loss after iteration 33: 0.693147\n",
      "Loss after iteration 34: 0.693147\n",
      "Loss after iteration 35: 0.693147\n",
      "Loss after iteration 36: 0.693147\n",
      "Loss after iteration 37: 0.693147\n",
      "Loss after iteration 38: 0.693147\n",
      "Loss after iteration 39: 0.693147\n",
      "Loss after iteration 40: 0.693147\n",
      "Loss after iteration 41: 0.693147\n",
      "Loss after iteration 42: 0.693147\n",
      "Loss after iteration 43: 0.693147\n",
      "Loss after iteration 44: 0.693147\n",
      "Loss after iteration 45: 0.693147\n",
      "Loss after iteration 46: 0.693147\n",
      "Loss after iteration 47: 0.693147\n",
      "Loss after iteration 48: 0.693147\n",
      "Loss after iteration 49: 0.693147\n",
      "Loss after iteration 50: 0.693147\n",
      "Loss after iteration 51: 0.693147\n",
      "Loss after iteration 52: 0.693147\n",
      "Loss after iteration 53: 0.693147\n",
      "Loss after iteration 54: 0.693147\n",
      "Loss after iteration 55: 0.693147\n",
      "Loss after iteration 56: 0.693147\n",
      "Loss after iteration 57: 0.693147\n",
      "Loss after iteration 58: 0.693147\n",
      "Loss after iteration 59: 0.693147\n",
      "Loss after iteration 60: 0.693147\n",
      "Loss after iteration 61: 0.693147\n",
      "Loss after iteration 62: 0.693147\n",
      "Loss after iteration 63: 0.693147\n",
      "Loss after iteration 64: 0.693147\n",
      "Loss after iteration 65: 0.693147\n",
      "Loss after iteration 66: 0.693147\n",
      "Loss after iteration 67: 0.693147\n",
      "Loss after iteration 68: 0.693147\n",
      "Loss after iteration 69: 0.693147\n",
      "Loss after iteration 70: 0.693147\n",
      "Loss after iteration 71: 0.693147\n",
      "Loss after iteration 72: 0.693147\n",
      "Loss after iteration 73: 0.693147\n",
      "Loss after iteration 74: 0.693147\n",
      "Loss after iteration 75: 0.693147\n",
      "Loss after iteration 76: 0.693147\n",
      "Loss after iteration 77: 0.693147\n",
      "Loss after iteration 78: 0.693147\n",
      "Loss after iteration 79: 0.693147\n",
      "Loss after iteration 80: 0.693147\n",
      "Loss after iteration 81: 0.693147\n",
      "Loss after iteration 82: 0.693147\n",
      "Loss after iteration 83: 0.693147\n",
      "Loss after iteration 84: 0.693147\n",
      "Loss after iteration 85: 0.693147\n",
      "Loss after iteration 86: 0.693147\n",
      "Loss after iteration 87: 0.693147\n",
      "Loss after iteration 88: 0.693147\n",
      "Loss after iteration 89: 0.693147\n",
      "Loss after iteration 90: 0.693147\n",
      "Loss after iteration 91: 0.693147\n",
      "Loss after iteration 92: 0.693147\n",
      "Loss after iteration 93: 0.693147\n",
      "Loss after iteration 94: 0.693147\n",
      "Loss after iteration 95: 0.693147\n",
      "Loss after iteration 96: 0.693147\n",
      "Loss after iteration 97: 0.693147\n",
      "Loss after iteration 98: 0.693147\n",
      "Loss after iteration 99: 0.693147\n",
      "Loss after iteration 100: 0.693147\n"
     ]
    },
    {
     "data": {
      "text/plain": [
       "0.5"
      ]
     },
     "execution_count": 10,
     "metadata": {},
     "output_type": "execute_result"
    },
    {
     "data": {
      "image/png": "[encoded data removed]",
      "text/plain": [
       "<Figure size 432x288 with 1 Axes>"
      ]
     },
     "metadata": {
      "needs_background": "light"
     },
     "output_type": "display_data"
    }
   ],
   "source": [
    "mlp1 = Nueral_Net(layers, layers_dim, iterations=100, learning_rate=0.01, activation='relu')\n",
    "mlp1.fit(X_train, y_train)\n",
    "loss1 = mlp1.loss\n",
    "plt.plot(loss1)\n",
    "mlp1.score(X_train,y_train)"
   ]
  },
  {
   "cell_type": "markdown",
   "metadata": {},
   "source": [
    "### Sigmoid"
   ]
  },
  {
   "cell_type": "code",
   "execution_count": 11,
   "metadata": {},
   "outputs": [
    {
     "name": "stdout",
     "output_type": "stream",
     "text": [
      "Loss after iteration 1: 0.690530\n",
      "Loss after iteration 2: 0.686931\n",
      "Loss after iteration 3: 0.679165\n",
      "Loss after iteration 4: 0.663980\n",
      "Loss after iteration 5: 0.639077\n",
      "Loss after iteration 6: 0.606906\n",
      "Loss after iteration 7: 0.574783\n",
      "Loss after iteration 8: 0.548436\n",
      "Loss after iteration 9: 0.528638\n",
      "Loss after iteration 10: 0.513902\n",
      "Loss after iteration 11: 0.502717\n",
      "Loss after iteration 12: 0.494032\n",
      "Loss after iteration 13: 0.487167\n",
      "Loss after iteration 14: 0.481666\n",
      "Loss after iteration 15: 0.477208\n",
      "Loss after iteration 16: 0.473557\n",
      "Loss after iteration 17: 0.470533\n",
      "Loss after iteration 18: 0.468000\n",
      "Loss after iteration 19: 0.465854\n",
      "Loss after iteration 20: 0.464016\n",
      "Loss after iteration 21: 0.462427\n",
      "Loss after iteration 22: 0.461040\n",
      "Loss after iteration 23: 0.459819\n",
      "Loss after iteration 24: 0.458738\n",
      "Loss after iteration 25: 0.457774\n",
      "Loss after iteration 26: 0.456911\n",
      "Loss after iteration 27: 0.456134\n",
      "Loss after iteration 28: 0.455433\n",
      "Loss after iteration 29: 0.454797\n",
      "Loss after iteration 30: 0.454219\n",
      "Loss after iteration 31: 0.453692\n",
      "Loss after iteration 32: 0.453210\n",
      "Loss after iteration 33: 0.452769\n",
      "Loss after iteration 34: 0.452363\n",
      "Loss after iteration 35: 0.451990\n",
      "Loss after iteration 36: 0.451646\n",
      "Loss after iteration 37: 0.451328\n",
      "Loss after iteration 38: 0.451034\n",
      "Loss after iteration 39: 0.450761\n",
      "Loss after iteration 40: 0.450507\n",
      "Loss after iteration 41: 0.450270\n",
      "Loss after iteration 42: 0.450050\n",
      "Loss after iteration 43: 0.449844\n",
      "Loss after iteration 44: 0.449652\n",
      "Loss after iteration 45: 0.449472\n",
      "Loss after iteration 46: 0.449303\n",
      "Loss after iteration 47: 0.449144\n",
      "Loss after iteration 48: 0.448995\n",
      "Loss after iteration 49: 0.448855\n",
      "Loss after iteration 50: 0.448723\n",
      "Loss after iteration 51: 0.448598\n",
      "Loss after iteration 52: 0.448481\n",
      "Loss after iteration 53: 0.448369\n",
      "Loss after iteration 54: 0.448264\n",
      "Loss after iteration 55: 0.448164\n",
      "Loss after iteration 56: 0.448070\n",
      "Loss after iteration 57: 0.447980\n",
      "Loss after iteration 58: 0.447895\n",
      "Loss after iteration 59: 0.447814\n",
      "Loss after iteration 60: 0.447737\n",
      "Loss after iteration 61: 0.447664\n",
      "Loss after iteration 62: 0.447594\n",
      "Loss after iteration 63: 0.447528\n",
      "Loss after iteration 64: 0.447464\n",
      "Loss after iteration 65: 0.447404\n",
      "Loss after iteration 66: 0.447346\n",
      "Loss after iteration 67: 0.447290\n",
      "Loss after iteration 68: 0.447237\n",
      "Loss after iteration 69: 0.447187\n",
      "Loss after iteration 70: 0.447138\n",
      "Loss after iteration 71: 0.447091\n",
      "Loss after iteration 72: 0.447047\n",
      "Loss after iteration 73: 0.447004\n",
      "Loss after iteration 74: 0.446963\n",
      "Loss after iteration 75: 0.446923\n",
      "Loss after iteration 76: 0.446885\n",
      "Loss after iteration 77: 0.446849\n",
      "Loss after iteration 78: 0.446813\n",
      "Loss after iteration 79: 0.446780\n",
      "Loss after iteration 80: 0.446747\n",
      "Loss after iteration 81: 0.446715\n",
      "Loss after iteration 82: 0.446685\n",
      "Loss after iteration 83: 0.446656\n",
      "Loss after iteration 84: 0.446628\n",
      "Loss after iteration 85: 0.446600\n",
      "Loss after iteration 86: 0.446574\n",
      "Loss after iteration 87: 0.446548\n",
      "Loss after iteration 88: 0.446524\n",
      "Loss after iteration 89: 0.446500\n",
      "Loss after iteration 90: 0.446477\n",
      "Loss after iteration 91: 0.446454\n",
      "Loss after iteration 92: 0.446433\n",
      "Loss after iteration 93: 0.446412\n",
      "Loss after iteration 94: 0.446391\n",
      "Loss after iteration 95: 0.446371\n",
      "Loss after iteration 96: 0.446352\n",
      "Loss after iteration 97: 0.446333\n",
      "Loss after iteration 98: 0.446315\n",
      "Loss after iteration 99: 0.446298\n",
      "Loss after iteration 100: 0.446281\n"
     ]
    },
    {
     "data": {
      "text/plain": [
       "0.845"
      ]
     },
     "execution_count": 11,
     "metadata": {},
     "output_type": "execute_result"
    },
    {
     "data": {
      "image/png": "[encoded data removed]",
      "text/plain": [
       "<Figure size 432x288 with 1 Axes>"
      ]
     },
     "metadata": {
      "needs_background": "light"
     },
     "output_type": "display_data"
    }
   ],
   "source": [
    "mlp2 = Nueral_Net(layers, layers_dim, iterations=100, learning_rate=0.1, activation='sigmoid')\n",
    "mlp2.fit(X_train, y_train)\n",
    "loss2 = mlp2.loss\n",
    "plt.plot(loss2)\n",
    "mlp2.score(X_train,y_train)"
   ]
  },
  {
   "cell_type": "markdown",
   "metadata": {},
   "source": [
    "### Linear"
   ]
  },
  {
   "cell_type": "code",
   "execution_count": 12,
   "metadata": {},
   "outputs": [
    {
     "name": "stdout",
     "output_type": "stream",
     "text": [
      "Loss after iteration 1: 0.426019\n",
      "Loss after iteration 2: 5.029175\n",
      "Loss after iteration 3: nan\n",
      "Loss after iteration 4: nan\n",
      "Loss after iteration 5: nan\n",
      "Loss after iteration 6: nan\n",
      "Loss after iteration 7: nan\n",
      "Loss after iteration 8: nan\n",
      "Loss after iteration 9: nan\n",
      "Loss after iteration 10: nan\n",
      "Loss after iteration 11: nan\n",
      "Loss after iteration 12: nan\n",
      "Loss after iteration 13: nan\n",
      "Loss after iteration 14: nan\n",
      "Loss after iteration 15: nan\n",
      "Loss after iteration 16: nan\n",
      "Loss after iteration 17: nan\n",
      "Loss after iteration 18: nan\n",
      "Loss after iteration 19: nan\n",
      "Loss after iteration 20: nan\n",
      "Loss after iteration 21: nan\n",
      "Loss after iteration 22: nan\n",
      "Loss after iteration 23: nan\n",
      "Loss after iteration 24: nan\n",
      "Loss after iteration 25: nan\n",
      "Loss after iteration 26: nan\n",
      "Loss after iteration 27: nan\n",
      "Loss after iteration 28: nan\n",
      "Loss after iteration 29: nan\n",
      "Loss after iteration 30: nan\n",
      "Loss after iteration 31: nan\n",
      "Loss after iteration 32: nan\n",
      "Loss after iteration 33: nan\n",
      "Loss after iteration 34: nan\n",
      "Loss after iteration 35: nan\n",
      "Loss after iteration 36: nan\n",
      "Loss after iteration 37: nan\n",
      "Loss after iteration 38: nan\n",
      "Loss after iteration 39: nan\n",
      "Loss after iteration 40: nan\n",
      "Loss after iteration 41: nan\n",
      "Loss after iteration 42: nan\n",
      "Loss after iteration 43: nan\n",
      "Loss after iteration 44: nan\n",
      "Loss after iteration 45: nan\n",
      "Loss after iteration 46: nan\n",
      "Loss after iteration 47: nan\n",
      "Loss after iteration 48: nan\n",
      "Loss after iteration 49: nan\n",
      "Loss after iteration 50: nan\n",
      "Loss after iteration 51: nan\n",
      "Loss after iteration 52: nan\n",
      "Loss after iteration 53: nan\n",
      "Loss after iteration 54: nan\n",
      "Loss after iteration 55: nan\n",
      "Loss after iteration 56: nan\n",
      "Loss after iteration 57: nan\n",
      "Loss after iteration 58: nan\n",
      "Loss after iteration 59: nan\n",
      "Loss after iteration 60: nan\n",
      "Loss after iteration 61: nan\n",
      "Loss after iteration 62: nan\n",
      "Loss after iteration 63: nan\n",
      "Loss after iteration 64: nan\n",
      "Loss after iteration 65: nan\n",
      "Loss after iteration 66: nan\n",
      "Loss after iteration 67: nan\n",
      "Loss after iteration 68: nan\n",
      "Loss after iteration 69: nan\n",
      "Loss after iteration 70: nan\n",
      "Loss after iteration 71: nan\n",
      "Loss after iteration 72: nan\n",
      "Loss after iteration 73: nan\n",
      "Loss after iteration 74: nan\n",
      "Loss after iteration 75: nan\n",
      "Loss after iteration 76: nan\n",
      "Loss after iteration 77: nan\n",
      "Loss after iteration 78: nan\n",
      "Loss after iteration 79: nan\n",
      "Loss after iteration 80: nan\n",
      "Loss after iteration 81: nan\n",
      "Loss after iteration 82: nan\n",
      "Loss after iteration 83: nan\n",
      "Loss after iteration 84: nan\n",
      "Loss after iteration 85: nan\n",
      "Loss after iteration 86: nan\n",
      "Loss after iteration 87: nan\n",
      "Loss after iteration 88: nan\n",
      "Loss after iteration 89: nan\n",
      "Loss after iteration 90: nan\n",
      "Loss after iteration 91: nan\n",
      "Loss after iteration 92: nan\n",
      "Loss after iteration 93: nan\n",
      "Loss after iteration 94: nan\n",
      "Loss after iteration 95: nan\n",
      "Loss after iteration 96: nan\n",
      "Loss after iteration 97: nan\n",
      "Loss after iteration 98: nan\n",
      "Loss after iteration 99: nan\n",
      "Loss after iteration 100: nan\n"
     ]
    },
    {
     "name": "stderr",
     "output_type": "stream",
     "text": [
      "C:\\Anaconda3\\lib\\site-packages\\ipykernel_launcher.py:4: RuntimeWarning: invalid value encountered in true_divide\n",
      "  after removing the cwd from sys.path.\n"
     ]
    },
    {
     "data": {
      "text/plain": [
       "0.5"
      ]
     },
     "execution_count": 12,
     "metadata": {},
     "output_type": "execute_result"
    },
    {
     "data": {
      "image/png": "[encoded data removed]",
      "text/plain": [
       "<Figure size 432x288 with 1 Axes>"
      ]
     },
     "metadata": {
      "needs_background": "light"
     },
     "output_type": "display_data"
    }
   ],
   "source": [
    "mlp3 = Nueral_Net(layers, layers_dim, iterations=100, learning_rate=0.1, activation='linear')\n",
    "mlp3.fit(X_train, y_train)\n",
    "loss3 = mlp3.loss\n",
    "plt.plot(loss3)\n",
    "mlp3.score(X_train,y_train)"
   ]
  },
  {
   "cell_type": "markdown",
   "metadata": {},
   "source": [
    "### TanH"
   ]
  },
  {
   "cell_type": "code",
   "execution_count": 13,
   "metadata": {},
   "outputs": [
    {
     "name": "stdout",
     "output_type": "stream",
     "text": [
      "Loss after iteration 1: 0.453881\n",
      "Loss after iteration 2: 0.576459\n",
      "Loss after iteration 3: 0.674383\n",
      "Loss after iteration 4: 0.507302\n",
      "Loss after iteration 5: 0.470698\n",
      "Loss after iteration 6: 0.412797\n",
      "Loss after iteration 7: 0.473220\n",
      "Loss after iteration 8: 0.610532\n",
      "Loss after iteration 9: 0.472728\n",
      "Loss after iteration 10: 0.424897\n",
      "Loss after iteration 11: 0.434307\n",
      "Loss after iteration 12: 0.408334\n",
      "Loss after iteration 13: 0.392901\n",
      "Loss after iteration 14: 0.401160\n",
      "Loss after iteration 15: 0.384620\n",
      "Loss after iteration 16: 0.369432\n",
      "Loss after iteration 17: 0.345717\n",
      "Loss after iteration 18: 0.350915\n",
      "Loss after iteration 19: 0.346600\n",
      "Loss after iteration 20: 0.358872\n",
      "Loss after iteration 21: 0.358056\n",
      "Loss after iteration 22: 0.362610\n",
      "Loss after iteration 23: 0.352603\n",
      "Loss after iteration 24: 0.354383\n",
      "Loss after iteration 25: 0.338840\n",
      "Loss after iteration 26: 0.334663\n",
      "Loss after iteration 27: 0.337657\n",
      "Loss after iteration 28: 0.336180\n",
      "Loss after iteration 29: 0.340909\n",
      "Loss after iteration 30: 0.340021\n",
      "Loss after iteration 31: 0.337348\n",
      "Loss after iteration 32: 0.336774\n",
      "Loss after iteration 33: 0.341857\n",
      "Loss after iteration 34: 0.341523\n",
      "Loss after iteration 35: 0.342731\n",
      "Loss after iteration 36: 0.335677\n",
      "Loss after iteration 37: 0.338322\n",
      "Loss after iteration 38: 0.338047\n",
      "Loss after iteration 39: 0.341309\n",
      "Loss after iteration 40: 0.338123\n",
      "Loss after iteration 41: 0.333205\n",
      "Loss after iteration 42: 0.335822\n",
      "Loss after iteration 43: 0.337483\n",
      "Loss after iteration 44: 0.340936\n",
      "Loss after iteration 45: 0.339331\n",
      "Loss after iteration 46: 0.336200\n",
      "Loss after iteration 47: 0.336776\n",
      "Loss after iteration 48: 0.340242\n",
      "Loss after iteration 49: 0.338345\n",
      "Loss after iteration 50: 0.333169\n",
      "Loss after iteration 51: 0.335250\n",
      "Loss after iteration 52: 0.342078\n",
      "Loss after iteration 53: 0.348379\n",
      "Loss after iteration 54: 0.339095\n",
      "Loss after iteration 55: 0.343030\n",
      "Loss after iteration 56: 0.338431\n",
      "Loss after iteration 57: 0.338018\n",
      "Loss after iteration 58: 0.333898\n",
      "Loss after iteration 59: 0.339257\n",
      "Loss after iteration 60: 0.341110\n",
      "Loss after iteration 61: 0.341965\n",
      "Loss after iteration 62: 0.343380\n",
      "Loss after iteration 63: 0.347557\n",
      "Loss after iteration 64: 0.340344\n",
      "Loss after iteration 65: 0.339539\n",
      "Loss after iteration 66: 0.339524\n",
      "Loss after iteration 67: 0.338546\n",
      "Loss after iteration 68: 0.333587\n",
      "Loss after iteration 69: 0.338085\n",
      "Loss after iteration 70: 0.340520\n",
      "Loss after iteration 71: 0.337306\n",
      "Loss after iteration 72: 0.333450\n",
      "Loss after iteration 73: 0.338562\n",
      "Loss after iteration 74: 0.333427\n",
      "Loss after iteration 75: 0.338200\n",
      "Loss after iteration 76: 0.340750\n",
      "Loss after iteration 77: 0.334313\n",
      "Loss after iteration 78: 0.338451\n",
      "Loss after iteration 79: 0.338395\n",
      "Loss after iteration 80: 0.334829\n",
      "Loss after iteration 81: 0.337222\n",
      "Loss after iteration 82: 0.338209\n",
      "Loss after iteration 83: 0.339650\n",
      "Loss after iteration 84: 0.335973\n",
      "Loss after iteration 85: 0.339827\n",
      "Loss after iteration 86: 0.340741\n",
      "Loss after iteration 87: 0.332932\n",
      "Loss after iteration 88: 0.333530\n",
      "Loss after iteration 89: 0.335327\n",
      "Loss after iteration 90: 0.340025\n",
      "Loss after iteration 91: 0.341672\n",
      "Loss after iteration 92: 0.341934\n",
      "Loss after iteration 93: 0.344102\n",
      "Loss after iteration 94: 0.347097\n",
      "Loss after iteration 95: 0.342789\n",
      "Loss after iteration 96: 0.340302\n",
      "Loss after iteration 97: 0.337044\n",
      "Loss after iteration 98: 0.337382\n",
      "Loss after iteration 99: 0.336207\n",
      "Loss after iteration 100: 0.335180\n"
     ]
    },
    {
     "data": {
      "text/plain": [
       "0.86"
      ]
     },
     "execution_count": 13,
     "metadata": {},
     "output_type": "execute_result"
    },
    {
     "data": {
      "image/png": "[encoded data removed]",
      "text/plain": [
       "<Figure size 432x288 with 1 Axes>"
      ]
     },
     "metadata": {
      "needs_background": "light"
     },
     "output_type": "display_data"
    }
   ],
   "source": [
    "mlp4 = Nueral_Net(layers, layers_dim, iterations=100, learning_rate=0.1, activation='tanh')\n",
    "mlp4.fit(X_train, y_train)\n",
    "loss4 = mlp4.loss\n",
    "plt.plot(loss4)\n",
    "mlp4.score(X_train,y_train)"
   ]
  },
  {
   "cell_type": "markdown",
   "metadata": {},
   "source": [
    "### Saving Weights"
   ]
  },
  {
   "cell_type": "code",
   "execution_count": 16,
   "metadata": {},
   "outputs": [],
   "source": [
    "import pickle\n",
    "\n",
    "data = {'relu': mlp1,'sigmoid':mlp2,'linear':mlp3,'tanh':mlp3}\n",
    "\n",
    "with open('models.pickle', 'wb') as handle:\n",
    "    pickle.dump(data, handle, protocol=pickle.HIGHEST_PROTOCOL)"
   ]
  },
  {
   "cell_type": "code",
   "execution_count": null,
   "metadata": {},
   "outputs": [],
   "source": []
  }
 ],
 "metadata": {
  "kernelspec": {
   "display_name": "Python 3",
   "language": "python",
   "name": "python3"
  },
  "language_info": {
   "codemirror_mode": {
    "name": "ipython",
    "version": 3
   },
   "file_extension": ".py",
   "mimetype": "text/x-python",
   "name": "python",
   "nbconvert_exporter": "python",
   "pygments_lexer": "ipython3",
   "version": "3.7.3"
  }
 },
 "nbformat": 4,
 "nbformat_minor": 2
}
