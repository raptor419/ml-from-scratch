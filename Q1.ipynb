{
 "cells": [
  {
   "cell_type": "markdown",
   "metadata": {},
   "source": [
    "# ML Assignment 1\n"
   ]
  },
  {
   "cell_type": "markdown",
   "metadata": {},
   "source": [
    "## Linear Regression"
   ]
  },
  {
   "cell_type": "markdown",
   "metadata": {},
   "source": [
    "###  5-fold Linear Regression for Abalone Dataset."
   ]
  },
  {
   "cell_type": "code",
   "execution_count": 71,
   "metadata": {
    "scrolled": true
   },
   "outputs": [
    {
     "data": {
      "text/html": [
       "<div>\n",
       "<style scoped>\n",
       "    .dataframe tbody tr th:only-of-type {\n",
       "        vertical-align: middle;\n",
       "    }\n",
       "\n",
       "    .dataframe tbody tr th {\n",
       "        vertical-align: top;\n",
       "    }\n",
       "\n",
       "    .dataframe thead th {\n",
       "        text-align: right;\n",
       "    }\n",
       "</style>\n",
       "<table border=\"1\" class=\"dataframe\">\n",
       "  <thead>\n",
       "    <tr style=\"text-align: right;\">\n",
       "      <th></th>\n",
       "      <th>sex</th>\n",
       "      <th>length</th>\n",
       "      <th>diameter</th>\n",
       "      <th>height</th>\n",
       "      <th>whole_weight</th>\n",
       "      <th>shucked_weight</th>\n",
       "      <th>viscera_weight</th>\n",
       "      <th>shell_weight</th>\n",
       "      <th>rings</th>\n",
       "    </tr>\n",
       "  </thead>\n",
       "  <tbody>\n",
       "    <tr>\n",
       "      <th>0</th>\n",
       "      <td>1.0</td>\n",
       "      <td>0.513514</td>\n",
       "      <td>0.521008</td>\n",
       "      <td>0.084071</td>\n",
       "      <td>0.181335</td>\n",
       "      <td>0.150303</td>\n",
       "      <td>0.132324</td>\n",
       "      <td>0.147982</td>\n",
       "      <td>0.500000</td>\n",
       "    </tr>\n",
       "    <tr>\n",
       "      <th>1</th>\n",
       "      <td>1.0</td>\n",
       "      <td>0.371622</td>\n",
       "      <td>0.352941</td>\n",
       "      <td>0.079646</td>\n",
       "      <td>0.079157</td>\n",
       "      <td>0.066241</td>\n",
       "      <td>0.063199</td>\n",
       "      <td>0.068261</td>\n",
       "      <td>0.214286</td>\n",
       "    </tr>\n",
       "    <tr>\n",
       "      <th>2</th>\n",
       "      <td>0.5</td>\n",
       "      <td>0.614865</td>\n",
       "      <td>0.613445</td>\n",
       "      <td>0.119469</td>\n",
       "      <td>0.239065</td>\n",
       "      <td>0.171822</td>\n",
       "      <td>0.185648</td>\n",
       "      <td>0.207773</td>\n",
       "      <td>0.285714</td>\n",
       "    </tr>\n",
       "    <tr>\n",
       "      <th>3</th>\n",
       "      <td>1.0</td>\n",
       "      <td>0.493243</td>\n",
       "      <td>0.521008</td>\n",
       "      <td>0.110619</td>\n",
       "      <td>0.182044</td>\n",
       "      <td>0.144250</td>\n",
       "      <td>0.149440</td>\n",
       "      <td>0.152965</td>\n",
       "      <td>0.321429</td>\n",
       "    </tr>\n",
       "    <tr>\n",
       "      <th>4</th>\n",
       "      <td>0.0</td>\n",
       "      <td>0.344595</td>\n",
       "      <td>0.336134</td>\n",
       "      <td>0.070796</td>\n",
       "      <td>0.071897</td>\n",
       "      <td>0.059516</td>\n",
       "      <td>0.051350</td>\n",
       "      <td>0.053313</td>\n",
       "      <td>0.214286</td>\n",
       "    </tr>\n",
       "  </tbody>\n",
       "</table>\n",
       "</div>"
      ],
      "text/plain": [
       "   sex    length  diameter    height  whole_weight  shucked_weight  \\\n",
       "0  1.0  0.513514  0.521008  0.084071      0.181335        0.150303   \n",
       "1  1.0  0.371622  0.352941  0.079646      0.079157        0.066241   \n",
       "2  0.5  0.614865  0.613445  0.119469      0.239065        0.171822   \n",
       "3  1.0  0.493243  0.521008  0.110619      0.182044        0.144250   \n",
       "4  0.0  0.344595  0.336134  0.070796      0.071897        0.059516   \n",
       "\n",
       "   viscera_weight  shell_weight     rings  \n",
       "0        0.132324      0.147982  0.500000  \n",
       "1        0.063199      0.068261  0.214286  \n",
       "2        0.185648      0.207773  0.285714  \n",
       "3        0.149440      0.152965  0.321429  \n",
       "4        0.051350      0.053313  0.214286  "
      ]
     },
     "execution_count": 71,
     "metadata": {},
     "output_type": "execute_result"
    }
   ],
   "source": [
    "import numpy as np\n",
    "import pandas as pd\n",
    "import matplotlib.pyplot as plt \n",
    "import sklearn\n",
    "import random\n",
    "%matplotlib inline\n",
    "\n",
    "dataset_location = 'abalone/Dataset.data/Dataset.data'\n",
    "columns =(['sex','length','diameter','height','whole_weight','shucked_weight','viscera_weight','shell_weight','rings'])\n",
    "data = pd.read_csv(dataset_location,delim_whitespace=True,names=columns)\n",
    "data = data.replace(to_replace =\"M\",value =2)\n",
    "data = data.replace(to_replace =\"F\",value =1)\n",
    "data = data.replace(to_replace =\"I\",value =0)\n",
    "data = (data-data.min())/(data.max()-data.min())\n",
    "data.head()"
   ]
  },
  {
   "cell_type": "code",
   "execution_count": 484,
   "metadata": {
    "scrolled": true
   },
   "outputs": [],
   "source": [
    "def plotFeatures(df,columns):\n",
    "    plt.figure(figsize=(10, 14))\n",
    "    for i in range(len(columns)):\n",
    "        plt.subplot(7,2,i+1)\n",
    "        plt.plot(df[columns[i]],df['rings'],marker='.',linestyle='none')\n",
    "        plt.title(\"rings vs \"+columns[i])   \n",
    "        plt.tight_layout()\n",
    "# plotFeatures(data,columns[:-1])"
   ]
  },
  {
   "cell_type": "code",
   "execution_count": 73,
   "metadata": {},
   "outputs": [],
   "source": [
    "def test_train_split(data,split=0.75):\n",
    "    data_copy = data.copy()\n",
    "    train = data_copy.sample(frac=split, random_state=0)\n",
    "    test = data_copy.drop(train.index)\n",
    "    train = train.sample(frac=1).reset_index(drop=True)\n",
    "    test = test.sample(frac=1).reset_index(drop=True)\n",
    "    return train, test\n",
    "\n",
    "def cross_validation_split(data, folds=5):\n",
    "    splits = np.array_split(data, folds)\n",
    "    y_splits = np.array_split(data['rings'], folds)\n",
    "    x_splits = np.array_split(data.drop('rings',1), folds)\n",
    "    return x_splits,y_splits\n",
    "\n",
    "def split(data,split=0.75,folds=5):\n",
    "    trainval,test = test_train_split(data,split)\n",
    "    x_splits,y_split = cross_validation_split(trainval,folds)\n",
    "    splits = x_splits,y_split\n",
    "    return splits,test\n",
    "\n",
    "trainval,test=split(data)\n",
    "[x_splits,y_splits] = trainval"
   ]
  },
  {
   "cell_type": "code",
   "execution_count": 74,
   "metadata": {},
   "outputs": [],
   "source": [
    "class LinearRegression:\n",
    "    \n",
    "    def __init__(self,x_in,y_in,folds=5):\n",
    "        self.x_splits = x_in\n",
    "        self.y_splits = y_in\n",
    "        self.theta = np.zeros([1,self.x_splits[0].shape[1]+1])\n",
    "        self.folds = folds\n",
    "        \n",
    "    def train(self,learning_rate=0.00005,iterations=1000,graph=True):\n",
    "        if self.folds==1:\n",
    "            train_score,theta = self.gradientDescend(learning_rate,iterations)\n",
    "            return train_score,self.theta\n",
    "        train_score,validation_score,theta = self.gradientDescend(learning_rate,iterations)\n",
    "        if graph:\n",
    "            fig2, ax2 = plt.subplots()  \n",
    "            ax2.set_title(\"RMSE vs Iterations on Validation Set\") \n",
    "            ax2.plot(np.arange(iterations), validation_score, 'r')  \n",
    "            ax2.set_xlabel('Iterations')  \n",
    "            ax2.set_ylabel('RMSE')\n",
    "            fig, ax = plt.subplots()\n",
    "            ax.set_title(\"RMSE vs Iterations on Train Set\") \n",
    "            ax.plot(np.arange(iterations), train_score, 'r')  \n",
    "            ax.set_xlabel('Iterations')  \n",
    "            ax.set_ylabel('RMSE')\n",
    "        return train_score[len(train_score)-1],validation_score[len(train_score)-1],self.theta\n",
    "            \n",
    "    def fit(self):\n",
    "        train_folds_score = np.zeros(self.folds)\n",
    "        validation_folds_score = np.zeros(self.folds)\n",
    "        if self.folds==1:\n",
    "            x_csplits, y_csplits = x_splits.copy(), y_splits.copy()\n",
    "            train_X,train_Y = pd.concat(x_csplits), pd.concat(y_csplits)\n",
    "            train_Y = train_Y.values.reshape([train_Y.shape[0],1])\n",
    "            ones = np.ones([train_X.shape[0],1])\n",
    "            train_X = np.concatenate((ones,train_X),axis=1)\n",
    "            a = np.linalg.inv(np.dot(train_X.T,train_X))\n",
    "            b = np.dot(train_X.T,train_Y)  \n",
    "            self.theta = np.dot(a,b).T\n",
    "            train_folds_score=(self.evaluate(train_X, train_Y))\n",
    "            return train_folds_score,self.theta\n",
    "            \n",
    "        for fold in range(0, self.folds):\n",
    "            x_csplits, y_csplits = x_splits.copy(), y_splits.copy()\n",
    "            val_X,val_Y = x_csplits.pop(fold),y_csplits.pop(fold)\n",
    "            train_X,train_Y = pd.concat(x_csplits), pd.concat(y_csplits)\n",
    "            val_Y, train_Y= val_Y.values.reshape([val_Y.shape[0],1]), train_Y.values.reshape([train_Y.shape[0],1])\n",
    "            ones = np.ones([train_X.shape[0],1])\n",
    "            train_X = np.concatenate((ones,train_X),axis=1)\n",
    "            ones = np.ones([val_X.shape[0],1])\n",
    "            val_X = np.concatenate((ones,val_X),axis=1)\n",
    "            a = np.linalg.inv(np.dot(train_X.T,train_X))\n",
    "            b = np.dot(train_X.T,train_Y)  \n",
    "            self.theta = np.dot(a,b).T\n",
    "            train_folds_score[fold]=(self.evaluate(train_X, train_Y))\n",
    "            validation_folds_score[fold]=(self.evaluate(val_X, val_Y))\n",
    "        return train_folds_score,validation_folds_score,self.theta\n",
    "        \n",
    "    def gradientDescend(self,alpha=0.05,iterations=1000):\n",
    "        if self.folds==1:\n",
    "            train_score = np.zeros(iterations)\n",
    "            validation_score = np.zeros(iterations)\n",
    "            for i in range(iterations):\n",
    "                train_folds_score = 0\n",
    "                validation_folds_score = 0\n",
    "                x_csplits, y_csplits = x_splits.copy(), y_splits.copy()\n",
    "                train_X,train_Y = pd.concat(x_csplits), pd.concat(y_csplits)\n",
    "                train_Y= train_Y.values.reshape([train_Y.shape[0],1])\n",
    "                ones = np.ones([train_X.shape[0],1])\n",
    "                train_X = np.concatenate((ones,train_X),axis=1)\n",
    "                self.theta = self.theta - (alpha/len(train_X)) * np.sum(train_X.T.dot((train_X @ self.theta.T - train_Y)), axis=0)\n",
    "                print(self.theta)\n",
    "                train_folds_score=(self.evaluate(train_X, train_Y))\n",
    "            # print(train_folds_score,validation_folds_score)\n",
    "            train_score[i]=train_folds_score\n",
    "            return train_score,self.theta\n",
    "        \n",
    "        train_score = np.zeros(iterations)\n",
    "        validation_score = np.zeros(iterations)\n",
    "        for i in range(iterations):\n",
    "            train_folds_score = np.zeros(self.folds)\n",
    "            validation_folds_score = np.zeros(self.folds)\n",
    "            \n",
    "            for fold in range(0, self.folds):\n",
    "                x_csplits, y_csplits = x_splits.copy(), y_splits.copy()\n",
    "                val_X,val_Y = x_csplits.pop(fold),y_csplits.pop(fold)\n",
    "                train_X,train_Y = pd.concat(x_csplits), pd.concat(y_csplits)\n",
    "                val_Y, train_Y= val_Y.values.reshape([val_Y.shape[0],1]), train_Y.values.reshape([train_Y.shape[0],1])\n",
    "                ones = np.ones([train_X.shape[0],1])\n",
    "                train_X = np.concatenate((ones,train_X),axis=1)\n",
    "                ones = np.ones([val_X.shape[0],1])\n",
    "                val_X = np.concatenate((ones,val_X),axis=1)\n",
    "                self.theta = self.theta - (alpha/len(train_X)) * np.sum(train_X.T.dot((train_X @ self.theta.T - train_Y)), axis=0)\n",
    "                train_folds_score[fold]=(self.evaluate(train_X, train_Y))\n",
    "                validation_folds_score[fold]=(self.evaluate(val_X, val_Y))\n",
    "            # print(train_folds_score,validation_folds_score)\n",
    "            train_score[i]=(train_folds_score.mean())\n",
    "            validation_score[i]=(validation_folds_score.mean())\n",
    "        return train_score,validation_score,self.theta\n",
    "        \n",
    "    def predict(self,x):\n",
    "        return np.dot(x,self.theta.T)\n",
    "\n",
    "    def cost(self,X,Y):\n",
    "        prediction = self.predict(X,self.theta)\n",
    "        return ((prediction - Y)**2).mean()/2\n",
    "    \n",
    "    def rmse(self,X,Y):\n",
    "        s = np.power(((X @ self.theta.T)-Y),2)\n",
    "        return (np.sum(s)/(2 * len(X)))*(1/2)\n",
    "    \n",
    "    def evaluate(self,test_x, test_y):\n",
    "        return self.rmse(test_x,test_y)\n"
   ]
  },
  {
   "cell_type": "code",
   "execution_count": 75,
   "metadata": {
    "scrolled": false
   },
   "outputs": [
    {
     "data": {
      "image/png": "[encoded data removed]",
      "text/plain": [
       "<Figure size 432x288 with 1 Axes>"
      ]
     },
     "metadata": {
      "needs_background": "light"
     },
     "output_type": "display_data"
    },
    {
     "data": {
      "image/png": "[encoded data removed]",
      "text/plain": [
       "<Figure size 432x288 with 1 Axes>"
      ]
     },
     "metadata": {
      "needs_background": "light"
     },
     "output_type": "display_data"
    }
   ],
   "source": [
    "model = LinearRegression(x_splits,y_splits)\n",
    "gd_train_score,gd_validation_score,theta = model.train(iterations=10000)\n",
    "# print(gd_train_score,gd_validation_score,theta)"
   ]
  },
  {
   "cell_type": "code",
   "execution_count": 76,
   "metadata": {},
   "outputs": [
    {
     "name": "stdout",
     "output_type": "stream",
     "text": [
      "[0.00142181 0.00150838 0.00150842 0.0014823  0.00147063] [0.00172245 0.00137605 0.0013751  0.00148529 0.00152608] [[ 0.08162617  0.02400684 -0.02176834  0.17811942  0.9418867   0.84487309\n",
      "  -0.96126405 -0.32522167  0.32898957]]\n",
      "Gradient Descend\n",
      "Train RMSE: 0.0024676287519126506  ; Validation RMSE: 0.002467695229930739\n",
      "Normal Equation\n",
      "Train RMSE: [0.00142181 0.00150838 0.00150842 0.0014823  0.00147063]  \n",
      "Validation RMSE: [0.00172245 0.00137605 0.0013751  0.00148529 0.00152608]\n",
      "Train RMSE mean: 0.0014783059613952005  ; Validation RMSE mean: 0.001496994118070164\n"
     ]
    }
   ],
   "source": [
    "nf_train_score,nf_validation_score,theta = model.fit()\n",
    "print(nf_train_score, nf_validation_score,theta)\n",
    "\n",
    "print(\"Gradient Descend\")\n",
    "print(\"Train RMSE:\",gd_train_score,\" ; Validation RMSE:\",gd_validation_score)\n",
    "print(\"Normal Equation\")\n",
    "print(\"Train RMSE:\",nf_train_score,\" \\nValidation RMSE:\",nf_validation_score)\n",
    "print(\"Train RMSE mean:\",nf_train_score.mean(),\" ; Validation RMSE mean:\",nf_validation_score.mean())"
   ]
  },
  {
   "cell_type": "markdown",
   "metadata": {},
   "source": [
    "### Normal Equation RMSE < Gradient Descend RMSE\n"
   ]
  },
  {
   "cell_type": "markdown",
   "metadata": {},
   "source": [
    "## Regularisation"
   ]
  },
  {
   "cell_type": "code",
   "execution_count": 131,
   "metadata": {},
   "outputs": [
    {
     "name": "stdout",
     "output_type": "stream",
     "text": [
      "2\n"
     ]
    }
   ],
   "source": [
    "minfold = np.argmin(nf_validation_score)\n",
    "print(minfold)\n",
    "x_csplits, y_csplits = x_splits.copy(), y_splits.copy()\n",
    "test_X,test_Y = x_csplits.pop(minfold),y_csplits.pop(minfold)\n",
    "trainval_X,trainval_Y = pd.concat(x_csplits), pd.concat(y_csplits)\n",
    "def cross_val_split(trainval_X,trainval_Y, folds=5):\n",
    "    y_splits = np.array_split(trainval_Y, folds)\n",
    "    x_splits = np.array_split(trainval_X, folds)\n",
    "    return x_splits,y_splits\n",
    "x_splits,y_splits = cross_val_split(trainval_X,trainval_Y, folds=5)"
   ]
  },
  {
   "cell_type": "code",
   "execution_count": 491,
   "metadata": {},
   "outputs": [
    {
     "name": "stdout",
     "output_type": "stream",
     "text": [
      "Ridge L2\n",
      "GridSearchCV(cv='warn', error_score='raise-deprecating',\n",
      "       estimator=Ridge(alpha=1.0, copy_X=True, fit_intercept=True, max_iter=None,\n",
      "   normalize=False, random_state=None, solver='auto', tol=0.001),\n",
      "       fit_params=None, iid='warn', n_jobs=None,\n",
      "       param_grid={'alpha': array([1.e+00, 1.e-01, 1.e-02, 1.e-03, 1.e-04, 1.e-05])},\n",
      "       pre_dispatch='2*n_jobs', refit=True, return_train_score='warn',\n",
      "       scoring=None, verbose=0)\n",
      "Best score 0.4807807323713393\n",
      "Best estimator 0.01\n",
      "Lasso L1\n",
      "GridSearchCV(cv='warn', error_score='raise-deprecating',\n",
      "       estimator=Lasso(alpha=1.0, copy_X=True, fit_intercept=True, max_iter=1000,\n",
      "   normalize=False, positive=False, precompute=False, random_state=None,\n",
      "   selection='cyclic', tol=0.0001, warm_start=False),\n",
      "       fit_params=None, iid='warn', n_jobs=None,\n",
      "       param_grid={'alpha': array([1.e+00, 1.e-01, 1.e-02, 1.e-03, 1.e-04, 1.e-05])},\n",
      "       pre_dispatch='2*n_jobs', refit=True, return_train_score='warn',\n",
      "       scoring=None, verbose=0)\n",
      "Best score 0.48051834808117094\n",
      "Best estimator 1e-05\n"
     ]
    },
    {
     "name": "stderr",
     "output_type": "stream",
     "text": [
      "C:\\Anaconda3\\lib\\site-packages\\sklearn\\model_selection\\_split.py:2053: FutureWarning: You should specify a value for 'cv' instead of relying on the default value. The default value will change from 3 to 5 in version 0.22.\n",
      "  warnings.warn(CV_WARNING, FutureWarning)\n",
      "C:\\Anaconda3\\lib\\site-packages\\sklearn\\model_selection\\_split.py:2053: FutureWarning: You should specify a value for 'cv' instead of relying on the default value. The default value will change from 3 to 5 in version 0.22.\n",
      "  warnings.warn(CV_WARNING, FutureWarning)\n"
     ]
    }
   ],
   "source": [
    "from sklearn.linear_model import Ridge,Lasso\n",
    "from sklearn.model_selection import GridSearchCV\n",
    "alphas = np.array([1,0.1,0.01,0.001,0.0001,0.00001])\n",
    "print(\"Ridge L2\")\n",
    "model = Ridge()\n",
    "grid = GridSearchCV(estimator=model, param_grid=dict(alpha=alphas))\n",
    "grid.fit(trainval_X, trainval_Y)\n",
    "print(grid)\n",
    "print(\"Best score\",grid.best_score_)\n",
    "print(\"Best estimator\",grid.best_estimator_.alpha)\n",
    "print(\"Lasso L1\")\n",
    "model = Lasso()\n",
    "grid = GridSearchCV(estimator=model, param_grid=dict(alpha=alphas))\n",
    "grid.fit(trainval_X, trainval_Y)\n",
    "print(grid)\n",
    "print(\"Best score\",grid.best_score_)\n",
    "print(\"Best estimator\",grid.best_estimator_.alpha)"
   ]
  },
  {
   "cell_type": "code",
   "execution_count": 141,
   "metadata": {},
   "outputs": [],
   "source": [
    "class RegLinearRegression:\n",
    "    def __init__(self,x_in,y_in,folds=5):\n",
    "        self.x_splits = x_in\n",
    "        self.y_splits = y_in\n",
    "        self.theta = np.zeros([1,self.x_splits[0].shape[1]+1])\n",
    "        self.folds = folds\n",
    "        \n",
    "    def train(self,learning_rate=0.00005,iterations=1000,graph=True,regularization=None,penalty=1):\n",
    "        train_score,validation_score,theta = self.gradientDescend(learning_rate,iterations,regularization,penalty)\n",
    "        if graph:\n",
    "            fig2, ax2 = plt.subplots()  \n",
    "            ax2.set_title(\"RMSE vs Iterations on Validation Set\") \n",
    "            ax2.plot(np.arange(iterations), validation_score, 'r')  \n",
    "            ax2.set_xlabel('Iterations')  \n",
    "            ax2.set_ylabel('RMSE')\n",
    "            fig, ax = plt.subplots()\n",
    "            ax.set_title(\"RMSE vs Iterations on Train Set\") \n",
    "            ax.plot(np.arange(iterations), train_score, 'r')  \n",
    "            ax.set_xlabel('Iterations')  \n",
    "            ax.set_ylabel('RMSE')\n",
    "        return train_score[len(train_score)-1],validation_score[len(train_score)-1],self.theta\n",
    "            \n",
    "    def fit(self):\n",
    "        train_folds_score = np.zeros(self.folds)\n",
    "        validation_folds_score = np.zeros(self.folds)\n",
    "        for fold in range(0, self.folds):\n",
    "            x_csplits, y_csplits = x_splits.copy(), y_splits.copy()\n",
    "            val_X,val_Y = x_csplits.pop(fold),y_csplits.pop(fold)\n",
    "            train_X,train_Y = pd.concat(x_csplits), pd.concat(y_csplits)\n",
    "            val_Y, train_Y= val_Y.values.reshape([val_Y.shape[0],1]), train_Y.values.reshape([train_Y.shape[0],1])\n",
    "            ones = np.ones([train_X.shape[0],1])\n",
    "            train_X = np.concatenate((ones,train_X),axis=1)\n",
    "            ones = np.ones([val_X.shape[0],1])\n",
    "            val_X = np.concatenate((ones,val_X),axis=1)\n",
    "            a = np.linalg.inv(np.dot(train_X.T,train_X))\n",
    "            b = np.dot(train_X.T,train_Y)  \n",
    "            self.theta = np.dot(a,b).T\n",
    "            train_folds_score[fold]=(self.evaluate(train_X, train_Y))\n",
    "            validation_folds_score[fold]=(self.evaluate(val_X, val_Y))\n",
    "        return train_folds_score,validation_folds_score,self.theta\n",
    "        \n",
    "    def gradientDescend(self,alpha=0.05,iterations=1000,regularization=None,penalty=1):\n",
    "        train_score = np.zeros(iterations)\n",
    "        validation_score = np.zeros(iterations)\n",
    "        for i in range(iterations):\n",
    "            train_folds_score = np.zeros(self.folds)\n",
    "            validation_folds_score = np.zeros(self.folds)\n",
    "            \n",
    "            for fold in range(0, self.folds):\n",
    "                x_csplits, y_csplits = x_splits.copy(), y_splits.copy()\n",
    "                val_X,val_Y = x_csplits.pop(fold),y_csplits.pop(fold)\n",
    "                train_X,train_Y = pd.concat(x_csplits), pd.concat(y_csplits)\n",
    "                val_Y, train_Y= val_Y.values.reshape([val_Y.shape[0],1]), train_Y.values.reshape([train_Y.shape[0],1])\n",
    "                ones = np.ones([train_X.shape[0],1])\n",
    "                train_X = np.concatenate((ones,train_X),axis=1)\n",
    "                ones = np.ones([val_X.shape[0],1])\n",
    "                val_X = np.concatenate((ones,val_X),axis=1)\n",
    "                if regularization=='L2':\n",
    "                    self.theta = self.theta - (alpha/len(train_X)) * (np.sum(train_X.T.dot((train_X @ self.theta.T - train_Y)), axis=0)+penalty*np.sum(np.absolute(self.theta)))\n",
    "                elif regularization=='L1':\n",
    "                    self.theta = self.theta - (alpha/len(train_X)) * (np.sum(train_X.T.dot((train_X @ self.theta.T - train_Y)), axis=0)+penalty*np.sum(np.power(self.theta,2)))\n",
    "                else:\n",
    "                    self.theta = self.theta - (alpha/len(train_X)) * np.sum(train_X.T.dot((train_X @ self.theta.T - train_Y)), axis=0)         \n",
    "                train_folds_score[fold]=(self.evaluate(train_X, train_Y))\n",
    "                validation_folds_score[fold]=(self.evaluate(val_X, val_Y))\n",
    "            # print(train_folds_score,validation_folds_score)\n",
    "            train_score[i]=(train_folds_score.mean())\n",
    "            validation_score[i]=(validation_folds_score.mean())\n",
    "        return train_score,validation_score,self.theta\n",
    "        \n",
    "    def predict(self,x):\n",
    "        return np.dot(x,self.theta.T)\n",
    "\n",
    "    def cost(self,X,Y):\n",
    "        prediction = self.predict(X,self.theta)\n",
    "        return ((prediction - Y)**2).mean()/2\n",
    "    \n",
    "    def rmse(self,X,Y):\n",
    "        s = np.power(((X @ self.theta.T)-Y),2)\n",
    "        return (np.sum(s)/(2 * len(X)))*(1/2)\n",
    "    \n",
    "    def evaluate(self,test_x, test_y):\n",
    "        return self.rmse(test_x,test_y)\n"
   ]
  },
  {
   "cell_type": "markdown",
   "metadata": {},
   "source": [
    "#### Linear Regression with L2 regularization"
   ]
  },
  {
   "cell_type": "code",
   "execution_count": 142,
   "metadata": {},
   "outputs": [
    {
     "data": {
      "image/png": "[encoded data removed]",
      "text/plain": [
       "<Figure size 432x288 with 1 Axes>"
      ]
     },
     "metadata": {
      "needs_background": "light"
     },
     "output_type": "display_data"
    },
    {
     "data": {
      "image/png": "[encoded data removed]",
      "text/plain": [
       "<Figure size 432x288 with 1 Axes>"
      ]
     },
     "metadata": {
      "needs_background": "light"
     },
     "output_type": "display_data"
    }
   ],
   "source": [
    "model = RegLinearRegression(x_splits, y_splits, folds=5)\n",
    "train_score, val_score, _ = model.train(learning_rate=0.01, iterations=100, regularization = 'L2', penalty = 2)\n",
    "ones = np.ones([test_X.shape[0],1])\n",
    "test_X_L2 = np.concatenate((ones,test_X),axis=1)\n",
    "test_Y_L2 = test_Y.values.reshape([test_Y.shape[0],1])\n",
    "test_score = model.evaluate(test_X_L2,test_Y_L2)"
   ]
  },
  {
   "cell_type": "code",
   "execution_count": 143,
   "metadata": {},
   "outputs": [
    {
     "name": "stdout",
     "output_type": "stream",
     "text": [
      "Train score 0.002716420479906825 Validation Score 0.00273040873208844 Test Score 0.0030012311145886654\n"
     ]
    }
   ],
   "source": [
    "print(\"Train score\",train_score,\"Validation Score\",val_score,\"Test Score\",test_score)"
   ]
  },
  {
   "cell_type": "markdown",
   "metadata": {},
   "source": [
    "#### Linear Regression with L2 regularization"
   ]
  },
  {
   "cell_type": "code",
   "execution_count": 145,
   "metadata": {},
   "outputs": [
    {
     "data": {
      "image/png": "[encoded data removed]",
      "text/plain": [
       "<Figure size 432x288 with 1 Axes>"
      ]
     },
     "metadata": {
      "needs_background": "light"
     },
     "output_type": "display_data"
    },
    {
     "data": {
      "image/png": "[encoded data removed]",
      "text/plain": [
       "<Figure size 432x288 with 1 Axes>"
      ]
     },
     "metadata": {
      "needs_background": "light"
     },
     "output_type": "display_data"
    }
   ],
   "source": [
    "model = RegLinearRegression(x_splits, y_splits, folds=5)\n",
    "train_score, val_score, _ = model.train(learning_rate=0.05, iterations=100, regularization = 'L1', penalty = 2)\n",
    "ones = np.ones([test_X.shape[0],1])\n",
    "test_X_L1 = np.concatenate((ones,test_X),axis=1)\n",
    "test_Y_L1 = test_Y.values.reshape([test_Y.shape[0],1])\n",
    "test_score = model.evaluate(test_X_L1,test_Y_L1)"
   ]
  },
  {
   "cell_type": "code",
   "execution_count": 136,
   "metadata": {},
   "outputs": [
    {
     "name": "stdout",
     "output_type": "stream",
     "text": [
      "Train score 0.002716420479906825 Validation Score 0.00273040873208844 Test Score 0.0030012311145886654\n"
     ]
    }
   ],
   "source": [
    "print(\"Train score\",train_score,\"Validation Score\",val_score,\"Test Score\",test_score)"
   ]
  },
  {
   "cell_type": "markdown",
   "metadata": {},
   "source": [
    "## Best Fit Line"
   ]
  },
  {
   "cell_type": "code",
   "execution_count": 478,
   "metadata": {},
   "outputs": [
    {
     "data": {
      "text/html": [
       "<div>\n",
       "<style scoped>\n",
       "    .dataframe tbody tr th:only-of-type {\n",
       "        vertical-align: middle;\n",
       "    }\n",
       "\n",
       "    .dataframe tbody tr th {\n",
       "        vertical-align: top;\n",
       "    }\n",
       "\n",
       "    .dataframe thead th {\n",
       "        text-align: right;\n",
       "    }\n",
       "</style>\n",
       "<table border=\"1\" class=\"dataframe\">\n",
       "  <thead>\n",
       "    <tr style=\"text-align: right;\">\n",
       "      <th></th>\n",
       "      <th>Brain_Weight</th>\n",
       "      <th>Body_Weight</th>\n",
       "    </tr>\n",
       "  </thead>\n",
       "  <tbody>\n",
       "    <tr>\n",
       "      <th>0</th>\n",
       "      <td>1.0</td>\n",
       "      <td>8.429338</td>\n",
       "    </tr>\n",
       "    <tr>\n",
       "      <th>1</th>\n",
       "      <td>1.6</td>\n",
       "      <td>10.516225</td>\n",
       "    </tr>\n",
       "    <tr>\n",
       "      <th>2</th>\n",
       "      <td>2.2</td>\n",
       "      <td>12.339744</td>\n",
       "    </tr>\n",
       "    <tr>\n",
       "      <th>3</th>\n",
       "      <td>2.8</td>\n",
       "      <td>19.217969</td>\n",
       "    </tr>\n",
       "    <tr>\n",
       "      <th>4</th>\n",
       "      <td>3.4</td>\n",
       "      <td>19.749753</td>\n",
       "    </tr>\n",
       "  </tbody>\n",
       "</table>\n",
       "</div>"
      ],
      "text/plain": [
       "   Brain_Weight  Body_Weight\n",
       "0           1.0     8.429338\n",
       "1           1.6    10.516225\n",
       "2           2.2    12.339744\n",
       "3           2.8    19.217969\n",
       "4           3.4    19.749753"
      ]
     },
     "execution_count": 478,
     "metadata": {},
     "output_type": "execute_result"
    }
   ],
   "source": [
    "dataset_location = 'bodybrainw/data.csv'\n",
    "data = pd.read_csv(dataset_location)\n",
    "# data = (data-data.min())/(data.max()-data.min())\n",
    "data.head()"
   ]
  },
  {
   "cell_type": "code",
   "execution_count": 479,
   "metadata": {},
   "outputs": [],
   "source": [
    "splits = np.array_split(data, 1)\n",
    "y_splits = np.array_split(data['Brain_Weight'], 1)\n",
    "x_splits = np.array_split(data.drop('Brain_Weight',1), 1)\n",
    "train_x = data['Brain_Weight'].values\n",
    "train_y = data.drop('Brain_Weight',1).values"
   ]
  },
  {
   "cell_type": "code",
   "execution_count": 480,
   "metadata": {},
   "outputs": [],
   "source": [
    "class SimpleLinearRegression:\n",
    "    def __init__ (self, x_in, y_in):\n",
    "        self.X = x_in\n",
    "        self.Y = y_in\n",
    "        self.theta = np.array([[1.0, 1.0]])\n",
    "    def train(self,learning_rate=0.005,iterations=10000,regularization=None,penalty=1):\n",
    "        theta = np.array([[1.0, 1.0]])\n",
    "        self.X = (np.array(self.X).reshape(-1,1))\n",
    "        ones = np.ones([self.X.shape[0], 1])\n",
    "        self.X = np.concatenate([ones, self.X],1)\n",
    "        self.Y = (np.array(self.Y).reshape(-1,1))\n",
    "        print(self.X.shape,self.Y.shape, regularization,penalty)\n",
    "        rmse,self.theta = self.gradient_descent(learning_rate, iterations,regularization,penalty)\n",
    "        print(\"[m,c]:\",self.theta,\" RMSE:\", rmse)\n",
    "        slope = self.theta[0][0]\n",
    "        constant = self.theta[0][1]\n",
    "        return slope,constant\n",
    "\n",
    "    def predict(self,x):\n",
    "        slope = self.theta[0][0]\n",
    "        constant = self.theta[0][1]\n",
    "        y = slope* x + constant\n",
    "        return y\n",
    "\n",
    "    def rmse(self,X,Y):\n",
    "        s = np.power(((X @ self.theta.T)-Y),2)\n",
    "        return (np.sum(s)/(2 * len(X)))*(1/2)\n",
    "\n",
    "    def gradient_descent(self, alpha=0.0005,iterations=1000,regularization=None,penalty=1):\n",
    "        for i in range(iterations):\n",
    "            # theta = theta - (alpha/len(X)) * np.sum((X @ theta.T - y) * X, axis=0)\n",
    "            # print(self.X.shape,self.Y.shape,self.theta.shape,self.theta)\n",
    "            if regularization=='L2':\n",
    "                    self.theta = self.theta - (alpha/len(self.X)) * (np.sum((self.X @ self.theta.T - self.Y)* self.X, axis=0)+penalty*np.sum(np.absolute(self.theta)))\n",
    "            elif regularization=='L1':\n",
    "                self.theta = self.theta - (alpha/len(self.X)) * (np.sum((self.X @ self.theta.T - self.Y)* self.X, axis=0)+penalty*np.sum(np.power(self.theta,2)))\n",
    "            else:\n",
    "                self.theta = self.theta - (alpha/len(self.X)) * np.sum((self.X @ self.theta.T - self.Y)* self.X, axis=0)        \n",
    "            error = self.rmse(self.X, self.Y)\n",
    "        return (error,self.theta)\n"
   ]
  },
  {
   "cell_type": "code",
   "execution_count": 481,
   "metadata": {},
   "outputs": [],
   "source": [
    "model = SimpleLinearRegression(train_x,train_y)\n",
    "modell1 = SimpleLinearRegression(train_x,train_y)\n",
    "modell2 = SimpleLinearRegression(train_x,train_y)"
   ]
  },
  {
   "cell_type": "code",
   "execution_count": 482,
   "metadata": {
    "scrolled": true
   },
   "outputs": [
    {
     "name": "stdout",
     "output_type": "stream",
     "text": [
      "(167, 2) (167, 1) None 1\n",
      "[m,c]: [[1.48381831 4.6153523 ]]  RMSE: 269.90315523919077\n",
      "(167, 2) (167, 1) L1 100\n",
      "[m,c]: [[-7.59255968  4.73682482]]  RMSE: 278.757396860283\n",
      "(167, 2) (167, 1) L2 100\n",
      "[m,c]: [[0.05699742 4.63586253]]  RMSE: 270.60416385762323\n"
     ]
    }
   ],
   "source": [
    "theta = model.train(learning_rate=0.0005,iterations=1000)\n",
    "thetal1 = modell1.train(learning_rate=0.0005,iterations=1000,regularization='L1',penalty=100)\n",
    "thetal2 = modell2.train(learning_rate=0.0005,iterations=1000,regularization='L2',penalty=100)"
   ]
  },
  {
   "cell_type": "code",
   "execution_count": 483,
   "metadata": {},
   "outputs": [
    {
     "data": {
      "image/png": "[encoded data removed]",
      "text/plain": [
       "<Figure size 432x288 with 1 Axes>"
      ]
     },
     "metadata": {
      "needs_background": "light"
     },
     "output_type": "display_data"
    },
    {
     "data": {
      "image/png": "[encoded data removed]",
      "text/plain": [
       "<Figure size 432x288 with 1 Axes>"
      ]
     },
     "metadata": {
      "needs_background": "light"
     },
     "output_type": "display_data"
    },
    {
     "data": {
      "image/png": "[encoded data removed]",
      "text/plain": [
       "<Figure size 432x288 with 1 Axes>"
      ]
     },
     "metadata": {
      "needs_background": "light"
     },
     "output_type": "display_data"
    }
   ],
   "source": [
    "b0,b1=theta[0],theta[1]\n",
    "b0l1,b1l1=thetal1[0],thetal1[1]\n",
    "b0l2,b1l2=thetal2[0],thetal2[1]\n",
    "x_max = np.max(train_x) + 10\n",
    "x_min = np.min(train_x) - 10\n",
    "x = np.linspace(x_min, x_max, 1000)\n",
    "y = b0 + b1 * x\n",
    "yl1 = b0l1 + b1l1 * x\n",
    "yl2 = b0l2 + b1l2 * x\n",
    "plt.plot(x, y, color='#0000ff', label='Linear Regression')\n",
    "plt.scatter(train_x, train_y, color='#ff0000', label='Data Point')\n",
    "plt.xlabel('Brain Weight')\n",
    "plt.ylabel('Body Weight')\n",
    "plt.legend()\n",
    "plt.show()\n",
    "plt.plot(x, y, color='#00ff00', label='L2 Linear Regression')\n",
    "plt.scatter(train_x, train_y, color='#ff0000', label='Data Point')\n",
    "plt.xlabel('Brain Weight')\n",
    "plt.ylabel('Body Weight')\n",
    "plt.legend()\n",
    "plt.show()\n",
    "plt.plot(x, y, color='#ff0000', label='L1 Linear Regression')\n",
    "plt.scatter(train_x, train_y, color='#ff0000', label='Data Point')\n",
    "plt.xlabel('Brain Weight')\n",
    "plt.ylabel('Body Weight')\n",
    "plt.legend()\n",
    "plt.show()"
   ]
  },
  {
   "cell_type": "markdown",
   "metadata": {},
   "source": [
    "## Non regularized line was the best fit among the three in train set and has lowest RMSE, but the model would probable overfit.\n",
    "## In real world scenario L1 regularisation might be better"
   ]
  }
 ],
 "metadata": {
  "kernelspec": {
   "display_name": "Python 3",
   "language": "python",
   "name": "python3"
  },
  "language_info": {
   "codemirror_mode": {
    "name": "ipython",
    "version": 3
   },
   "file_extension": ".py",
   "mimetype": "text/x-python",
   "name": "python",
   "nbconvert_exporter": "python",
   "pygments_lexer": "ipython3",
   "version": "3.7.3"
  }
 },
 "nbformat": 4,
 "nbformat_minor": 2
}
